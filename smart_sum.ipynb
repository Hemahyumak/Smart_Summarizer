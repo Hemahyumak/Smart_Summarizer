{
 "cells": [
  {
   "cell_type": "markdown",
   "id": "de7ca216",
   "metadata": {},
   "source": [
    "Installing dependencies"
   ]
  },
  {
   "cell_type": "code",
   "execution_count": 19,
   "id": "c6b128d7",
   "metadata": {},
   "outputs": [],
   "source": [
    "! pip install -q datasets rouge-score transformers accelerate sentencepiece nltk"
   ]
  },
  {
   "cell_type": "markdown",
   "id": "15e63701",
   "metadata": {},
   "source": [
    "Importing libraries"
   ]
  },
  {
   "cell_type": "code",
   "execution_count": 43,
   "id": "dc74bb86",
   "metadata": {},
   "outputs": [
    {
     "data": {
      "text/plain": [
       "<torch._C.Generator at 0x2af34197ef0>"
      ]
     },
     "execution_count": 43,
     "metadata": {},
     "output_type": "execute_result"
    }
   ],
   "source": [
    "import os, time, random, math\n",
    "import numpy as np\n",
    "import pandas as pd\n",
    "from tqdm import tqdm\n",
    "import torch\n",
    "from datasets import load_dataset\n",
    "from rouge_score import rouge_scorer\n",
    "\n",
    "SEED = 42\n",
    "random.seed(SEED); np.random.seed(SEED); torch.manual_seed(SEED)"
   ]
  },
  {
   "cell_type": "markdown",
   "id": "5010e02b",
   "metadata": {},
   "source": [
    "Choosen Dataset"
   ]
  },
  {
   "cell_type": "code",
   "execution_count": 44,
   "id": "87d7475e",
   "metadata": {},
   "outputs": [],
   "source": [
    "DATASETS = {\n",
    "    \"xsum\": {\"split\": \"test\", \"n_samples\": 150},\n",
    "    \"cnn_dailymail\": {\"split\": \"test\", \"n_samples\": 150}\n",
    "}"
   ]
  },
  {
   "cell_type": "markdown",
   "id": "9328c26c",
   "metadata": {},
   "source": [
    "Choosing abstractive models per dataset"
   ]
  },
  {
   "cell_type": "code",
   "execution_count": null,
   "id": "80f4acdf",
   "metadata": {},
   "outputs": [],
   "source": [
    "ABSTRACTIVE_MODELS = {\n",
    "    \"xsum\": \"facebook/bart-large-xsum\",   \n",
    "    \"cnn_dailymail\": \"facebook/bart-large-cnn\",\n",
    "}\n",
    "\n",
    "MAX_INPUT_CHARS = {\n",
    "    \"xsum\": 3000,\n",
    "    \"cnn_dailymail\": 4500\n",
    "}"
   ]
  },
  {
   "cell_type": "markdown",
   "id": "2d23a730",
   "metadata": {},
   "source": [
    "Generating parameters for each dataset"
   ]
  },
  {
   "cell_type": "code",
   "execution_count": 46,
   "id": "1cc4b104",
   "metadata": {},
   "outputs": [],
   "source": [
    "GEN_KW = {\n",
    "    \"xsum\":   {\"max_new_tokens\": 64, \"num_beams\": 2, \"temperature\": 1.0, \"top_p\": 1.0},\n",
    "    \"cnn_dailymail\":{\"max_new_tokens\": 128, \"num_beams\": 2, \"temperature\": 1.0, \"top_p\": 1.0},\n",
    "}"
   ]
  },
  {
   "cell_type": "code",
   "execution_count": null,
   "id": "1f16c15c",
   "metadata": {},
   "outputs": [
    {
     "name": "stdout",
     "output_type": "stream",
     "text": [
      "Using device: cpu\n"
     ]
    }
   ],
   "source": [
    "DEVICE = \"cuda\" if torch.cuda.is_available() else (\n",
    "    \"mps\" if hasattr(torch.backends, \"mps\") and torch.backends.mps.is_available() else \"cpu\"\n",
    ")\n",
    "USE_HALF = (DEVICE == \"cuda\")   \n",
    "print(\"Using device:\", DEVICE)\n"
   ]
  },
  {
   "cell_type": "markdown",
   "id": "c1f68f90",
   "metadata": {},
   "source": [
    "Loading the dataset"
   ]
  },
  {
   "cell_type": "code",
   "execution_count": null,
   "id": "1fd5659c",
   "metadata": {},
   "outputs": [],
   "source": [
    "from datasets import load_dataset\n",
    "import pandas as pd\n",
    "\n",
    "def load_and_normalize(name: str, split: str):\n",
    "    if name == \"xsum\":\n",
    "        ds = load_dataset(\"xsum\", split=split, trust_remote_code=True)\n",
    "        df = pd.DataFrame({\"text\": ds[\"document\"], \"summary\": ds[\"summary\"]})\n",
    "        return df.dropna().reset_index(drop=True)\n",
    "\n",
    "    elif name == \"cnn_dailymail\":\n",
    "        ds = load_dataset(\"cnn_dailymail\", \"3.0.0\", split=split, trust_remote_code=True)\n",
    "        df = pd.DataFrame({\"text\": ds[\"article\"], \"summary\": ds[\"highlights\"]})\n",
    "        return df.dropna().reset_index(drop=True)\n",
    "\n",
    "    else:\n",
    "        raise ValueError(\"Unsupported dataset: \" + name)\n",
    "\n"
   ]
  },
  {
   "cell_type": "code",
   "execution_count": 50,
   "id": "36505cee",
   "metadata": {},
   "outputs": [
    {
     "name": "stderr",
     "output_type": "stream",
     "text": [
      "c:\\Users\\hemam\\AppData\\Local\\Programs\\Python\\Python312\\Lib\\site-packages\\huggingface_hub\\file_download.py:139: UserWarning: `huggingface_hub` cache-system uses symlinks by default to efficiently store duplicated files but your machine does not support them in C:\\Users\\hemam\\.cache\\huggingface\\hub\\datasets--cnn_dailymail. Caching files will still work but in a degraded version that might require more space on your disk. This warning can be disabled by setting the `HF_HUB_DISABLE_SYMLINKS_WARNING` environment variable. For more details, see https://huggingface.co/docs/huggingface_hub/how-to-cache#limitations.\n",
      "To support symlinks on Windows, you either need to activate Developer Mode or to run Python as an administrator. In order to activate developer mode, see this article: https://docs.microsoft.com/en-us/windows/apps/get-started/enable-your-device-for-development\n",
      "  warnings.warn(message)\n",
      "Generating train split: 100%|██████████| 287113/287113 [00:02<00:00, 127618.99 examples/s]\n",
      "Generating validation split: 100%|██████████| 13368/13368 [00:00<00:00, 113537.47 examples/s]\n",
      "Generating test split: 100%|██████████| 11490/11490 [00:00<00:00, 112138.29 examples/s]"
     ]
    },
    {
     "name": "stdout",
     "output_type": "stream",
     "text": [
      "['article', 'highlights', 'id']\n",
      "(CNN)The Palestinian Authority officially became the 123rd member of the International Criminal Court on Wednesday, a step that gives the court jurisdiction over alleged crimes in Palestinian territor \n",
      "---\n",
      " Membership gives the ICC jurisdiction over alleged crimes committed in Palestinian territories since last June .\n",
      "Israel and the United States opposed the move, which could open the door to war crimes investigations against Israelis .\n"
     ]
    },
    {
     "name": "stderr",
     "output_type": "stream",
     "text": [
      "\n"
     ]
    }
   ],
   "source": [
    "tmp = load_dataset(\"cnn_dailymail\", \"3.0.0\", split=\"test[:3]\", trust_remote_code=True)\n",
    "print(tmp.column_names)\n",
    "print(tmp[0][\"article\"][:200], \"\\n---\\n\", tmp[0][\"highlights\"])"
   ]
  },
  {
   "cell_type": "markdown",
   "id": "d551ea78",
   "metadata": {},
   "source": [
    "Extractive try and expect block"
   ]
  },
  {
   "cell_type": "code",
   "execution_count": 51,
   "id": "72f59c89",
   "metadata": {},
   "outputs": [],
   "source": [
    "try:\n",
    "    _ = extractive_summarization  # type: ignore\n",
    "    def run_extractive(text, target_len_chars=300):\n",
    "        return extractive_summarization(text, max_length=target_len_chars) \n",
    "except NameError:\n",
    "    # Fallback: simple Lead-3 baseline\n",
    "    import nltk\n",
    "    nltk.download(\"punkt\", quiet=True)\n",
    "    from nltk.tokenize import sent_tokenize\n",
    "    def run_extractive(text, k=3):\n",
    "        try:\n",
    "            return \" \".join(sent_tokenize(text)[:k])\n",
    "        except Exception:\n",
    "            return text"
   ]
  },
  {
   "cell_type": "markdown",
   "id": "9dbadb96",
   "metadata": {},
   "source": [
    "Abstractive model"
   ]
  },
  {
   "cell_type": "code",
   "execution_count": null,
   "id": "65bba775",
   "metadata": {},
   "outputs": [],
   "source": [
    "from transformers import AutoTokenizer, AutoModelForSeq2SeqLM\n",
    "import torch\n",
    "\n",
    "_abs_cache = {}\n",
    "_tok_cache = {}\n",
    "\n",
    "def get_abs_model_and_tok(dataset_name: str):\n",
    "    key = ABSTRACTIVE_MODELS[dataset_name]\n",
    "    if key not in _abs_cache:\n",
    "        tok = AutoTokenizer.from_pretrained(key)\n",
    "        mdl = AutoModelForSeq2SeqLM.from_pretrained(key)  \n",
    "        if USE_HALF and DEVICE == \"cuda\":\n",
    "            mdl = mdl.half()\n",
    "        mdl.to(DEVICE)  \n",
    "        _abs_cache[key] = mdl\n",
    "        _tok_cache[key] = tok\n",
    "    return _abs_cache[key], _tok_cache[key]\n",
    "\n",
    "@torch.no_grad()\n",
    "def generate_abs(dataset_name: str, text: str):\n",
    "    mdl, tok = get_abs_model_and_tok(dataset_name)\n",
    "    params = GEN_KW[dataset_name]\n",
    "    inputs = tok(text, return_tensors=\"pt\", truncation=True, padding=True, max_length=1024)\n",
    "    inputs = {k: v.to(DEVICE) for k, v in inputs.items()}\n",
    "    out = mdl.generate(\n",
    "        **inputs,\n",
    "        max_new_tokens=params[\"max_new_tokens\"],\n",
    "        num_beams=params[\"num_beams\"],\n",
    "        do_sample=(params[\"temperature\"] != 1.0 or params[\"top_p\"] < 1.0),\n",
    "        temperature=params[\"temperature\"],\n",
    "        top_p=params[\"top_p\"]\n",
    "    )\n",
    "    return tok.decode(out[0], skip_special_tokens=True)\n",
    "\n"
   ]
  },
  {
   "cell_type": "code",
   "execution_count": 54,
   "id": "b536a01e",
   "metadata": {},
   "outputs": [
    {
     "name": "stdout",
     "output_type": "stream",
     "text": [
      "Model (cnn): facebook/bart-large-cnn\n",
      "Device: cpu\n"
     ]
    },
    {
     "name": "stderr",
     "output_type": "stream",
     "text": [
      "c:\\Users\\hemam\\AppData\\Local\\Programs\\Python\\Python312\\Lib\\site-packages\\huggingface_hub\\file_download.py:139: UserWarning: `huggingface_hub` cache-system uses symlinks by default to efficiently store duplicated files but your machine does not support them in C:\\Users\\hemam\\.cache\\huggingface\\hub\\models--facebook--bart-large-cnn. Caching files will still work but in a degraded version that might require more space on your disk. This warning can be disabled by setting the `HF_HUB_DISABLE_SYMLINKS_WARNING` environment variable. For more details, see https://huggingface.co/docs/huggingface_hub/how-to-cache#limitations.\n",
      "To support symlinks on Windows, you either need to activate Developer Mode or to run Python as an administrator. In order to activate developer mode, see this article: https://docs.microsoft.com/en-us/windows/apps/get-started/enable-your-device-for-development\n",
      "  warnings.warn(message)\n"
     ]
    },
    {
     "name": "stdout",
     "output_type": "stream",
     "text": [
      "Test gen: The mayor announced new traffic regulations to ease congestion in the city center. The new traffic rules are expected to be in place by the end of the year. The regulations are designed to ease traffic congestion in and around the city centre. They include a new traffic light system and new traffic calming measures.\n"
     ]
    }
   ],
   "source": [
    "print(\"Model (cnn):\", ABSTRACTIVE_MODELS[\"cnn_dailymail\"])\n",
    "print(\"Device:\", DEVICE)\n",
    "print(\"Test gen:\", generate_abs(\"cnn_dailymail\", \"The mayor announced new traffic regulations to ease congestion in the city center.\"))\n",
    "\n"
   ]
  },
  {
   "cell_type": "markdown",
   "id": "29b637d8",
   "metadata": {},
   "source": [
    "Rouge Evaluation"
   ]
  },
  {
   "cell_type": "code",
   "execution_count": 56,
   "id": "412d4205",
   "metadata": {},
   "outputs": [],
   "source": [
    "scorer = rouge_scorer.RougeScorer([\"rouge1\",\"rouge2\",\"rougeLsum\"], use_stemmer=True)\n",
    "\n",
    "def rouge_for_pair(ref, pred):\n",
    "    s = scorer.score(ref, pred)\n",
    "    return s[\"rouge1\"].fmeasure, s[\"rouge2\"].fmeasure, s[\"rougeLsum\"].fmeasure\n",
    "\n",
    "def eval_dataset(name:str, df:pd.DataFrame):\n",
    "    r = {\"abs_r1\":[], \"abs_r2\":[], \"abs_rl\":[], \"ext_r1\":[], \"ext_r2\":[], \"ext_rl\":[]}\n",
    "    abs_list, ext_list = [], []\n",
    "    for _, row in tqdm(df.iterrows(), total=len(df), desc=f\"EVAL {name}\"):\n",
    "        text = row[\"text_trunc\"]; ref = row[\"summary\"]\n",
    "        a = generate_abs(name, text); e = run_extractive(text)\n",
    "        abs_list.append(a); ext_list.append(e)\n",
    "        r1,r2,rl = rouge_for_pair(ref, a); r[\"abs_r1\"].append(r1); r[\"abs_r2\"].append(r2); r[\"abs_rl\"].append(rl)\n",
    "        r1,r2,rl = rouge_for_pair(ref, e); r[\"ext_r1\"].append(r1); r[\"ext_r2\"].append(r2); r[\"ext_rl\"].append(rl)\n",
    "    table = pd.DataFrame({\n",
    "        \"metric\": [\"ROUGE-1\",\"ROUGE-2\",\"ROUGE-Lsum\"],\n",
    "        \"Abstractive\": [np.mean(r[\"abs_r1\"]), np.mean(r[\"abs_r2\"]), np.mean(r[\"abs_rl\"])],\n",
    "        \"Extractive\": [np.mean(r[\"ext_r1\"]), np.mean(r[\"ext_r2\"]), np.mean(r[\"ext_rl\"])]\n",
    "    })\n",
    "    return table, abs_list, ext_list"
   ]
  },
  {
   "cell_type": "markdown",
   "id": "5e970db5",
   "metadata": {},
   "source": [
    "Running both the datasets"
   ]
  },
  {
   "cell_type": "code",
   "execution_count": null,
   "id": "c4b0d8f7",
   "metadata": {},
   "outputs": [
    {
     "name": "stdout",
     "output_type": "stream",
     "text": [
      "xsum rows: 150 (DEVICE=cpu, batch=2)\n"
     ]
    },
    {
     "name": "stderr",
     "output_type": "stream",
     "text": [
      "ABS GEN (xsum): 100%|██████████| 75/75 [07:53<00:00,  6.32s/it]\n",
      "EXT GEN (xsum): 100%|██████████| 150/150 [00:00<00:00, 1164.22it/s]\n",
      "ROUGE (xsum): 100%|██████████| 150/150 [00:01<00:00, 147.52it/s]\n"
     ]
    },
    {
     "name": "stdout",
     "output_type": "stream",
     "text": [
      "cnn_dailymail rows: 150 (DEVICE=cpu, batch=2)\n"
     ]
    },
    {
     "name": "stderr",
     "output_type": "stream",
     "text": [
      "ABS GEN (cnn_dailymail): 100%|██████████| 75/75 [26:10<00:00, 20.94s/it]\n",
      "EXT GEN (cnn_dailymail): 100%|██████████| 150/150 [00:00<00:00, 3569.66it/s]\n",
      "ROUGE (cnn_dailymail): 100%|██████████| 150/150 [00:00<00:00, 227.62it/s]"
     ]
    },
    {
     "name": "stdout",
     "output_type": "stream",
     "text": [
      "Done. Results saved in ./results/\n"
     ]
    },
    {
     "name": "stderr",
     "output_type": "stream",
     "text": [
      "\n"
     ]
    }
   ],
   "source": [
    "import math\n",
    "from tqdm import tqdm\n",
    "\n",
    "all_results = {}\n",
    "os.makedirs(\"results\", exist_ok=True)\n",
    "\n",
    "SAVE_ALL_SAMPLES = False\n",
    "\n",
    "if DEVICE == \"cuda\":\n",
    "    BATCH_SIZE = 8\n",
    "elif DEVICE == \"mps\":\n",
    "    BATCH_SIZE = 4\n",
    "else:\n",
    "    BATCH_SIZE = 2  # CPU\n",
    "\n",
    "def generate_abs_batched(dataset_name: str, texts: list) -> list:\n",
    "    \"\"\"Generate abstractive summaries in batches for speed.\"\"\"\n",
    "    mdl, tok = get_abs_model_and_tok(dataset_name)\n",
    "    mdl.eval()\n",
    "    params = GEN_KW[dataset_name]\n",
    "    outputs = []\n",
    "\n",
    "    for i in tqdm(range(0, len(texts), BATCH_SIZE), desc=f\"ABS GEN ({dataset_name})\"):\n",
    "        batch = texts[i:i + BATCH_SIZE]\n",
    "        try:\n",
    "            enc = tok(\n",
    "                batch,\n",
    "                return_tensors=\"pt\",\n",
    "                truncation=True,\n",
    "                padding=True,\n",
    "                max_length=1024\n",
    "            )\n",
    "            enc = {k: v.to(DEVICE) for k, v in enc.items()}\n",
    "            with torch.no_grad():\n",
    "                gen = mdl.generate(\n",
    "                    **enc,\n",
    "                    max_new_tokens=params[\"max_new_tokens\"],\n",
    "                    num_beams=params[\"num_beams\"],\n",
    "                    do_sample=(params[\"temperature\"] != 1.0 or params[\"top_p\"] < 1.0),\n",
    "                    temperature=params[\"temperature\"],\n",
    "                    top_p=params[\"top_p\"]\n",
    "                )\n",
    "            batch_out = tok.batch_decode(gen, skip_special_tokens=True)\n",
    "        except Exception as e:\n",
    "         \n",
    "            batch_out = [\"\"] * len(batch)\n",
    "        outputs.extend(batch_out)\n",
    "    return outputs\n",
    "\n",
    "def eval_with_rouge(name: str, df_in: pd.DataFrame):\n",
    "    \"\"\"Run extractive + abstractive, compute ROUGE table, and return lists.\"\"\"\n",
    "  \n",
    "    abs_list = generate_abs_batched(name, df_in[\"text_trunc\"].tolist())\n",
    "\n",
    "    ext_list = []\n",
    "    for t in tqdm(df_in[\"text_trunc\"].tolist(), desc=f\"EXT GEN ({name})\"):\n",
    "        try:\n",
    "            ext_list.append(run_extractive(t))\n",
    "        except Exception:\n",
    "            ext_list.append(\"\")\n",
    "\n",
    "   \n",
    "    abs_r1, abs_r2, abs_rl = [], [], []\n",
    "    ext_r1, ext_r2, ext_rl = [], [], []\n",
    "    for ref, a, e in tqdm(zip(df_in[\"summary\"], abs_list, ext_list), total=len(df_in), desc=f\"ROUGE ({name})\"):\n",
    "        r1, r2, rl = rouge_for_pair(ref, a); abs_r1.append(r1); abs_r2.append(r2); abs_rl.append(rl)\n",
    "        r1, r2, rl = rouge_for_pair(ref, e); ext_r1.append(r1); ext_r2.append(r2); ext_rl.append(rl)\n",
    "\n",
    "    table = pd.DataFrame({\n",
    "        \"metric\": [\"ROUGE-1\", \"ROUGE-2\", \"ROUGE-Lsum\"],\n",
    "        \"Abstractive\": [float(np.mean(abs_r1)), float(np.mean(abs_r2)), float(np.mean(abs_rl))],\n",
    "        \"Extractive\": [float(np.mean(ext_r1)), float(np.mean(ext_r2)), float(np.mean(ext_rl))]\n",
    "    })\n",
    "    return table, abs_list, ext_list\n",
    "\n",
    "\n",
    "for name, cfg in DATASETS.items():\n",
    "   \n",
    "    df = load_and_normalize(name, cfg[\"split\"])\n",
    "    n = min(cfg[\"n_samples\"], len(df))\n",
    "    df = df.sample(n, random_state=SEED).reset_index(drop=True)\n",
    "    df[\"text_trunc\"] = df[\"text\"].apply(lambda t: truncate_text(t, MAX_INPUT_CHARS[name]))\n",
    "    print(f\"{name} rows: {len(df)} (DEVICE={DEVICE}, batch={BATCH_SIZE})\")\n",
    "\n",
    "  \n",
    "    table, abs_list, ext_list = eval_with_rouge(name, df)\n",
    "    all_results[name] = table\n",
    "\n",
    "\n",
    "    df_out = df.copy()\n",
    "    df_out[\"abs_summary\"] = abs_list\n",
    "    df_out[\"ext_summary\"] = ext_list\n",
    "    table.to_csv(f\"results/{name}_rouge.csv\", index=False)\n",
    "\n",
    "    if SAVE_ALL_SAMPLES:\n",
    "        df_out.to_csv(f\"results/{name}_samples.csv\", index=False)\n",
    "    else:\n",
    "        df_out.head(20).to_csv(f\"results/{name}_samples.csv\", index=False)\n",
    "\n",
    "    with open(f\"results/{name}_rouge.txt\", \"w\", encoding=\"utf-8\") as f:\n",
    "        f.write(table.to_string(index=False))\n",
    "\n",
    "print(\"Done. Results saved in ./results/\")\n"
   ]
  },
  {
   "cell_type": "code",
   "execution_count": null,
   "id": "b8858e78",
   "metadata": {},
   "outputs": [
    {
     "name": "stdout",
     "output_type": "stream",
     "text": [
      "\n",
      "== XSum ROUGE (Abstractive vs Extractive) ==\n"
     ]
    },
    {
     "data": {
      "text/html": [
       "<div>\n",
       "<style scoped>\n",
       "    .dataframe tbody tr th:only-of-type {\n",
       "        vertical-align: middle;\n",
       "    }\n",
       "\n",
       "    .dataframe tbody tr th {\n",
       "        vertical-align: top;\n",
       "    }\n",
       "\n",
       "    .dataframe thead th {\n",
       "        text-align: right;\n",
       "    }\n",
       "</style>\n",
       "<table border=\"1\" class=\"dataframe\">\n",
       "  <thead>\n",
       "    <tr style=\"text-align: right;\">\n",
       "      <th></th>\n",
       "      <th>metric</th>\n",
       "      <th>Abstractive</th>\n",
       "      <th>Extractive</th>\n",
       "    </tr>\n",
       "  </thead>\n",
       "  <tbody>\n",
       "    <tr>\n",
       "      <th>0</th>\n",
       "      <td>ROUGE-1</td>\n",
       "      <td>0.457553</td>\n",
       "      <td>0.200073</td>\n",
       "    </tr>\n",
       "    <tr>\n",
       "      <th>1</th>\n",
       "      <td>ROUGE-2</td>\n",
       "      <td>0.216277</td>\n",
       "      <td>0.028505</td>\n",
       "    </tr>\n",
       "    <tr>\n",
       "      <th>2</th>\n",
       "      <td>ROUGE-Lsum</td>\n",
       "      <td>0.363480</td>\n",
       "      <td>0.126493</td>\n",
       "    </tr>\n",
       "  </tbody>\n",
       "</table>\n",
       "</div>"
      ],
      "text/plain": [
       "       metric  Abstractive  Extractive\n",
       "0     ROUGE-1     0.457553    0.200073\n",
       "1     ROUGE-2     0.216277    0.028505\n",
       "2  ROUGE-Lsum     0.363480    0.126493"
      ]
     },
     "metadata": {},
     "output_type": "display_data"
    },
    {
     "name": "stdout",
     "output_type": "stream",
     "text": [
      "\n",
      "== CNN/DailyMail ROUGE (Abstractive vs Extractive) ==\n"
     ]
    },
    {
     "data": {
      "text/html": [
       "<div>\n",
       "<style scoped>\n",
       "    .dataframe tbody tr th:only-of-type {\n",
       "        vertical-align: middle;\n",
       "    }\n",
       "\n",
       "    .dataframe tbody tr th {\n",
       "        vertical-align: top;\n",
       "    }\n",
       "\n",
       "    .dataframe thead th {\n",
       "        text-align: right;\n",
       "    }\n",
       "</style>\n",
       "<table border=\"1\" class=\"dataframe\">\n",
       "  <thead>\n",
       "    <tr style=\"text-align: right;\">\n",
       "      <th></th>\n",
       "      <th>metric</th>\n",
       "      <th>Abstractive</th>\n",
       "      <th>Extractive</th>\n",
       "    </tr>\n",
       "  </thead>\n",
       "  <tbody>\n",
       "    <tr>\n",
       "      <th>0</th>\n",
       "      <td>ROUGE-1</td>\n",
       "      <td>0.445030</td>\n",
       "      <td>0.400021</td>\n",
       "    </tr>\n",
       "    <tr>\n",
       "      <th>1</th>\n",
       "      <td>ROUGE-2</td>\n",
       "      <td>0.213468</td>\n",
       "      <td>0.180628</td>\n",
       "    </tr>\n",
       "    <tr>\n",
       "      <th>2</th>\n",
       "      <td>ROUGE-Lsum</td>\n",
       "      <td>0.375030</td>\n",
       "      <td>0.331696</td>\n",
       "    </tr>\n",
       "  </tbody>\n",
       "</table>\n",
       "</div>"
      ],
      "text/plain": [
       "       metric  Abstractive  Extractive\n",
       "0     ROUGE-1     0.445030    0.400021\n",
       "1     ROUGE-2     0.213468    0.180628\n",
       "2  ROUGE-Lsum     0.375030    0.331696"
      ]
     },
     "metadata": {},
     "output_type": "display_data"
    }
   ],
   "source": [
    "import pandas as pd\n",
    "\n",
    "def show_table(path, title):\n",
    "    df = pd.read_csv(path)\n",
    "    print(f\"\\n== {title} ==\")\n",
    "    display(df)\n",
    "\n",
    "show_table(\"results/xsum_rouge.csv\", \"XSum ROUGE (Abstractive vs Extractive)\")\n",
    "show_table(\"results/cnn_dailymail_rouge.csv\", \"CNN/DailyMail ROUGE (Abstractive vs Extractive)\")\n"
   ]
  },
  {
   "cell_type": "code",
   "execution_count": null,
   "id": "24402168",
   "metadata": {},
   "outputs": [
    {
     "data": {
      "image/png": "[encoded data removed]",
      "text/plain": [
       "<Figure size 600x400 with 1 Axes>"
      ]
     },
     "metadata": {},
     "output_type": "display_data"
    },
    {
     "data": {
      "image/png": "[encoded data removed]",
      "text/plain": [
       "<Figure size 600x400 with 1 Axes>"
      ]
     },
     "metadata": {},
     "output_type": "display_data"
    },
    {
     "name": "stdout",
     "output_type": "stream",
     "text": [
      "Saved charts to results/xsum_rouge_bar.png and results/cnn_rouge_bar.png\n"
     ]
    }
   ],
   "source": [
    "import pandas as pd\n",
    "import matplotlib.pyplot as plt\n",
    "\n",
    "def plot_rouge(csv_path, title, out_path):\n",
    "    df = pd.read_csv(csv_path)\n",
    "    ax = df.set_index(\"metric\").plot(kind=\"bar\", figsize=(6,4))\n",
    "    ax.set_title(title)\n",
    "    ax.set_ylabel(\"F1\")\n",
    "    ax.set_ylim(0, 1.0)\n",
    "    for p in ax.patches:\n",
    "        ax.annotate(f\"{p.get_height():.3f}\", \n",
    "                    (p.get_x()+p.get_width()/2, p.get_height()),\n",
    "                    ha='center', va='bottom', fontsize=8)\n",
    "    plt.tight_layout()\n",
    "    plt.savefig(out_path, dpi=200)\n",
    "    plt.show()\n",
    "\n",
    "plot_rouge(\"results/xsum_rouge.csv\", \"XSum: ROUGE\", \"results/xsum_rouge_bar.png\")\n",
    "plot_rouge(\"results/cnn_dailymail_rouge.csv\", \"CNN/DailyMail: ROUGE\", \"results/cnn_rouge_bar.png\")\n",
    "print(\"Saved charts to results/xsum_rouge_bar.png and results/cnn_rouge_bar.png\")\n"
   ]
  },
  {
   "cell_type": "code",
   "execution_count": null,
   "id": "c2346523",
   "metadata": {},
   "outputs": [
    {
     "name": "stdout",
     "output_type": "stream",
     "text": [
      "XSum examples:\n"
     ]
    },
    {
     "data": {
      "text/html": [
       "<div>\n",
       "<style scoped>\n",
       "    .dataframe tbody tr th:only-of-type {\n",
       "        vertical-align: middle;\n",
       "    }\n",
       "\n",
       "    .dataframe tbody tr th {\n",
       "        vertical-align: top;\n",
       "    }\n",
       "\n",
       "    .dataframe thead th {\n",
       "        text-align: right;\n",
       "    }\n",
       "</style>\n",
       "<table border=\"1\" class=\"dataframe\">\n",
       "  <thead>\n",
       "    <tr style=\"text-align: right;\">\n",
       "      <th></th>\n",
       "      <th>text</th>\n",
       "      <th>summary</th>\n",
       "      <th>abs_summary</th>\n",
       "      <th>ext_summary</th>\n",
       "    </tr>\n",
       "  </thead>\n",
       "  <tbody>\n",
       "    <tr>\n",
       "      <th>0</th>\n",
       "      <td>The sanctions freeze the US assets of those af...</td>\n",
       "      <td>The US government has imposed sanctions on 13 ...</td>\n",
       "      <td>The US has imposed sanctions on seven senior V...</td>\n",
       "      <td>The sanctions freeze the US assets of those af...</td>\n",
       "    </tr>\n",
       "    <tr>\n",
       "      <th>1</th>\n",
       "      <td>Sir Gareth attended a ceremony at Windsor Cast...</td>\n",
       "      <td>Wales rugby great Gareth Edwards has been knig...</td>\n",
       "      <td>Former Wales captain Gareth Edwards has been m...</td>\n",
       "      <td>Sir Gareth attended a ceremony at Windsor Cast...</td>\n",
       "    </tr>\n",
       "    <tr>\n",
       "      <th>2</th>\n",
       "      <td>Emmanuel Manzi from Italy won the event at Lla...</td>\n",
       "      <td>About 600 runners have taken part in the annua...</td>\n",
       "      <td>More than 1,000 competitors have taken part in...</td>\n",
       "      <td>Emmanuel Manzi from Italy won the event at Lla...</td>\n",
       "    </tr>\n",
       "    <tr>\n",
       "      <th>3</th>\n",
       "      <td>Rajab, who heads the Bahrain Centre for Human ...</td>\n",
       "      <td>Prominent Bahraini human rights activist Nabee...</td>\n",
       "      <td>Bahrain has freed prominent human rights activ...</td>\n",
       "      <td>Rajab, who heads the Bahrain Centre for Human ...</td>\n",
       "    </tr>\n",
       "    <tr>\n",
       "      <th>4</th>\n",
       "      <td>11 August 2015 Last updated at 19:18 BST\\nSafi...</td>\n",
       "      <td>An 11-year-old migrant from Afghanistan has be...</td>\n",
       "      <td>Safid, a five-year-old boy from Afghanistan, i...</td>\n",
       "      <td>11 August 2015 Last updated at 19:18 BST\\nSafi...</td>\n",
       "    </tr>\n",
       "  </tbody>\n",
       "</table>\n",
       "</div>"
      ],
      "text/plain": [
       "                                                text  \\\n",
       "0  The sanctions freeze the US assets of those af...   \n",
       "1  Sir Gareth attended a ceremony at Windsor Cast...   \n",
       "2  Emmanuel Manzi from Italy won the event at Lla...   \n",
       "3  Rajab, who heads the Bahrain Centre for Human ...   \n",
       "4  11 August 2015 Last updated at 19:18 BST\\nSafi...   \n",
       "\n",
       "                                             summary  \\\n",
       "0  The US government has imposed sanctions on 13 ...   \n",
       "1  Wales rugby great Gareth Edwards has been knig...   \n",
       "2  About 600 runners have taken part in the annua...   \n",
       "3  Prominent Bahraini human rights activist Nabee...   \n",
       "4  An 11-year-old migrant from Afghanistan has be...   \n",
       "\n",
       "                                         abs_summary  \\\n",
       "0  The US has imposed sanctions on seven senior V...   \n",
       "1  Former Wales captain Gareth Edwards has been m...   \n",
       "2  More than 1,000 competitors have taken part in...   \n",
       "3  Bahrain has freed prominent human rights activ...   \n",
       "4  Safid, a five-year-old boy from Afghanistan, i...   \n",
       "\n",
       "                                         ext_summary  \n",
       "0  The sanctions freeze the US assets of those af...  \n",
       "1  Sir Gareth attended a ceremony at Windsor Cast...  \n",
       "2  Emmanuel Manzi from Italy won the event at Lla...  \n",
       "3  Rajab, who heads the Bahrain Centre for Human ...  \n",
       "4  11 August 2015 Last updated at 19:18 BST\\nSafi...  "
      ]
     },
     "metadata": {},
     "output_type": "display_data"
    },
    {
     "name": "stdout",
     "output_type": "stream",
     "text": [
      "CNN/DailyMail examples:\n"
     ]
    },
    {
     "data": {
      "text/html": [
       "<div>\n",
       "<style scoped>\n",
       "    .dataframe tbody tr th:only-of-type {\n",
       "        vertical-align: middle;\n",
       "    }\n",
       "\n",
       "    .dataframe tbody tr th {\n",
       "        vertical-align: top;\n",
       "    }\n",
       "\n",
       "    .dataframe thead th {\n",
       "        text-align: right;\n",
       "    }\n",
       "</style>\n",
       "<table border=\"1\" class=\"dataframe\">\n",
       "  <thead>\n",
       "    <tr style=\"text-align: right;\">\n",
       "      <th></th>\n",
       "      <th>text</th>\n",
       "      <th>summary</th>\n",
       "      <th>abs_summary</th>\n",
       "      <th>ext_summary</th>\n",
       "    </tr>\n",
       "  </thead>\n",
       "  <tbody>\n",
       "    <tr>\n",
       "      <th>0</th>\n",
       "      <td>Down Augusta way they say the azaleas are in f...</td>\n",
       "      <td>Justin Rose bounced back from Florida misery b...</td>\n",
       "      <td>Justin Rose hit 17 out of 18 greens in regulat...</td>\n",
       "      <td>Down Augusta way they say the azaleas are in f...</td>\n",
       "    </tr>\n",
       "    <tr>\n",
       "      <th>1</th>\n",
       "      <td>There was no special treatment for Lewis Fergu...</td>\n",
       "      <td>Lewis Ferguson fell from Merrion Square at Win...</td>\n",
       "      <td>Lewis Ferguson, 18, was mucking out the stable...</td>\n",
       "      <td>There was no special treatment for Lewis Fergu...</td>\n",
       "    </tr>\n",
       "    <tr>\n",
       "      <th>2</th>\n",
       "      <td>When emergency crews received a call saying 's...</td>\n",
       "      <td>Woman reported 'someone' had been run over, bu...</td>\n",
       "      <td>Two ambulances were sent to Epping Forest afte...</td>\n",
       "      <td>When emergency crews received a call saying 's...</td>\n",
       "    </tr>\n",
       "    <tr>\n",
       "      <th>3</th>\n",
       "      <td>A loving boyfriend has granted his girlfriend ...</td>\n",
       "      <td>Guo Kai and girlfriend Dong Hui, 22, had plann...</td>\n",
       "      <td>Dong Hui, 22, was diagnosed with bone cancer l...</td>\n",
       "      <td>A loving boyfriend has granted his girlfriend ...</td>\n",
       "    </tr>\n",
       "    <tr>\n",
       "      <th>4</th>\n",
       "      <td>(CNN)Sunday's announcement that Corinthian Col...</td>\n",
       "      <td>David Wheeler: Corinthian, considered a \"preda...</td>\n",
       "      <td>Cynthia Schneider: Corinthian Colleges shuttin...</td>\n",
       "      <td>(CNN)Sunday's announcement that Corinthian Col...</td>\n",
       "    </tr>\n",
       "  </tbody>\n",
       "</table>\n",
       "</div>"
      ],
      "text/plain": [
       "                                                text  \\\n",
       "0  Down Augusta way they say the azaleas are in f...   \n",
       "1  There was no special treatment for Lewis Fergu...   \n",
       "2  When emergency crews received a call saying 's...   \n",
       "3  A loving boyfriend has granted his girlfriend ...   \n",
       "4  (CNN)Sunday's announcement that Corinthian Col...   \n",
       "\n",
       "                                             summary  \\\n",
       "0  Justin Rose bounced back from Florida misery b...   \n",
       "1  Lewis Ferguson fell from Merrion Square at Win...   \n",
       "2  Woman reported 'someone' had been run over, bu...   \n",
       "3  Guo Kai and girlfriend Dong Hui, 22, had plann...   \n",
       "4  David Wheeler: Corinthian, considered a \"preda...   \n",
       "\n",
       "                                         abs_summary  \\\n",
       "0  Justin Rose hit 17 out of 18 greens in regulat...   \n",
       "1  Lewis Ferguson, 18, was mucking out the stable...   \n",
       "2  Two ambulances were sent to Epping Forest afte...   \n",
       "3  Dong Hui, 22, was diagnosed with bone cancer l...   \n",
       "4  Cynthia Schneider: Corinthian Colleges shuttin...   \n",
       "\n",
       "                                         ext_summary  \n",
       "0  Down Augusta way they say the azaleas are in f...  \n",
       "1  There was no special treatment for Lewis Fergu...  \n",
       "2  When emergency crews received a call saying 's...  \n",
       "3  A loving boyfriend has granted his girlfriend ...  \n",
       "4  (CNN)Sunday's announcement that Corinthian Col...  "
      ]
     },
     "metadata": {},
     "output_type": "display_data"
    },
    {
     "name": "stdout",
     "output_type": "stream",
     "text": [
      "Saved: results/xsum_examples_top5.csv, results/cnn_examples_top5.csv\n"
     ]
    }
   ],
   "source": [
    "import pandas as pd\n",
    "\n",
    "def head_examples(in_csv, out_csv, k=5):\n",
    "    df = pd.read_csv(in_csv)\n",
    "    cols = [\"text\",\"summary\",\"abs_summary\",\"ext_summary\"] if \"ext_summary\" in df.columns else \\\n",
    "           [\"text\",\"summary\",\"abs_summary\",\"lead3_summary\"]\n",
    "    ex = df[cols].head(k)\n",
    "    ex.to_csv(out_csv, index=False)\n",
    "    return ex\n",
    "\n",
    "print(\"XSum examples:\")\n",
    "display(head_examples(\"results/xsum_samples.csv\", \"results/xsum_examples_top5.csv\", 5))\n",
    "\n",
    "print(\"CNN/DailyMail examples:\")\n",
    "display(head_examples(\"results/cnn_dailymail_samples.csv\", \"results/cnn_examples_top5.csv\", 5))\n",
    "\n",
    "print(\"Saved: results/xsum_examples_top5.csv, results/cnn_examples_top5.csv\")\n"
   ]
  }
 ],
 "metadata": {
  "kernelspec": {
   "display_name": "Python 3",
   "language": "python",
   "name": "python3"
  },
  "language_info": {
   "codemirror_mode": {
    "name": "ipython",
    "version": 3
   },
   "file_extension": ".py",
   "mimetype": "text/x-python",
   "name": "python",
   "nbconvert_exporter": "python",
   "pygments_lexer": "ipython3",
   "version": "3.12.3"
  }
 },
 "nbformat": 4,
 "nbformat_minor": 5
}
